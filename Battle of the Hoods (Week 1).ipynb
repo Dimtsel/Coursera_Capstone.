{
 "cells": [
  {
   "cell_type": "markdown",
   "metadata": {},
   "source": [
    "The Battle of Neighborhoods (Week 1)"
   ]
  },
  {
   "cell_type": "markdown",
   "metadata": {},
   "source": [
    "CASE AND BACKGROUND\n",
    "\n",
    "With around half of its population born outside the country, Toronto is often referred to as ‘the most multicultural city in the world.’ Located in Canada, this city boasts 200 ethnic groups with over 140 languages spoken. People from the UK, Ireland, China and Italy, to name a few, represent some of the larger cultural groups, while smaller communities include people from Iran, the Netherlands, Nepal and Romania. Toronto also features dozens of international neighborhoods waiting to be explored, including Chinatown, Greektown, Roncesvalles Village (Little Poland), Little Italy, and Little India."
   ]
  },
  {
   "cell_type": "markdown",
   "metadata": {},
   "source": [
    "At this study we will examine which is the ideal Neighborhood in the Toronto Downtown for a family to move in. We will not consider price and cost of living in the criterias, the analysis will be based mainly on the venues around each neighborhood that can provide a comfortable and safe for the family, style of living."
   ]
  },
  {
   "cell_type": "markdown",
   "metadata": {},
   "source": [
    "Downtown Toronto is the main central business district of Toronto, Ontario, Canada. Located entirely within the district of Old Toronto, it is approximately 17 square kilometers in area, bounded by Bloor Street to the northeast and Dupont Street to the northwest, Lake Ontario to the south, the Don Valley to the east, and Bathurst Street to the west. It is also the location of the City of Toronto government and the Government of Ontario.\n",
    "The area is made up of Canada's largest concentration of skyscrapers and businesses that form Toronto's skyline. Downtown Toronto has the third most skyscrapers in North America exceeding 200 metres (656 ft) in height, behind New York City and Chicago"
   ]
  },
  {
   "cell_type": "markdown",
   "metadata": {},
   "source": [
    "DATA DESCRIPTION\n",
    "\n",
    "We will use the services of Foursquare API to explore the data of Toronto (as we did in the Module of the 3rd week), in terms of their neighborhoods.\n",
    "The data include the information about the places around each neighborhood like restaurants, hotels, coffee shops, parks, theaters, art galleries, museums and many more. We selected one Borough from Toronto to analyze its neighborhoods, the seleceted Borough was Downtown Toronto.\n",
    "We will use machine learning technique, “Clustering” to segment the neighborhoods with similar objects on the basis of each neighborhood data. These objects will be given priority on activity in their respective neighborhoods. This will help to locate which area/neighborhood can provide us a 'peaceful' way of living."
   ]
  },
  {
   "cell_type": "markdown",
   "metadata": {},
   "source": [
    "As we did in Week 3's assesment, we have extracted table of Toronto’s Borough from Wikipedia page. Then we arrange the data according to our requirements. In the arrangement phase, which applied multiple steps including but not limited to, eliminating “Not assigned” values, combine neighborhoods which have same geographical coordinates at each borough and sorted against the concerned borough. For data verification and further exploration, we use Foursquare API to get the coordinates of Downtown Toronto and explore its neighborhoods. The neighborhoods are further characterized as venues and venue categories."
   ]
  },
  {
   "cell_type": "code",
   "execution_count": null,
   "metadata": {},
   "outputs": [],
   "source": []
  }
 ],
 "metadata": {
  "kernelspec": {
   "display_name": "Python 3",
   "language": "python",
   "name": "python3"
  },
  "language_info": {
   "codemirror_mode": {
    "name": "ipython",
    "version": 3
   },
   "file_extension": ".py",
   "mimetype": "text/x-python",
   "name": "python",
   "nbconvert_exporter": "python",
   "pygments_lexer": "ipython3",
   "version": "3.7.4"
  }
 },
 "nbformat": 4,
 "nbformat_minor": 2
}
